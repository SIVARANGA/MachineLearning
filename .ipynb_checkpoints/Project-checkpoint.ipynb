{
 "cells": [
  {
   "cell_type": "code",
   "execution_count": 1,
   "metadata": {},
   "outputs": [],
   "source": [
    "import pandas as pd"
   ]
  },
  {
   "cell_type": "code",
   "execution_count": 2,
   "metadata": {
    "collapsed": true
   },
   "outputs": [
    {
     "data": {
      "text/html": [
       "<div>\n",
       "<style scoped>\n",
       "    .dataframe tbody tr th:only-of-type {\n",
       "        vertical-align: middle;\n",
       "    }\n",
       "\n",
       "    .dataframe tbody tr th {\n",
       "        vertical-align: top;\n",
       "    }\n",
       "\n",
       "    .dataframe thead th {\n",
       "        text-align: right;\n",
       "    }\n",
       "</style>\n",
       "<table border=\"1\" class=\"dataframe\">\n",
       "  <thead>\n",
       "    <tr style=\"text-align: right;\">\n",
       "      <th></th>\n",
       "      <th>I</th>\n",
       "      <th>Ton</th>\n",
       "      <th>P</th>\n",
       "      <th>V</th>\n",
       "      <th>MRR</th>\n",
       "      <th>TWR</th>\n",
       "    </tr>\n",
       "  </thead>\n",
       "  <tbody>\n",
       "    <tr>\n",
       "      <th>0</th>\n",
       "      <td>10</td>\n",
       "      <td>100</td>\n",
       "      <td>0.3</td>\n",
       "      <td>40</td>\n",
       "      <td>4.9550</td>\n",
       "      <td>0.1011</td>\n",
       "    </tr>\n",
       "    <tr>\n",
       "      <th>1</th>\n",
       "      <td>10</td>\n",
       "      <td>100</td>\n",
       "      <td>0.5</td>\n",
       "      <td>50</td>\n",
       "      <td>8.8301</td>\n",
       "      <td>0.0849</td>\n",
       "    </tr>\n",
       "    <tr>\n",
       "      <th>2</th>\n",
       "      <td>10</td>\n",
       "      <td>100</td>\n",
       "      <td>0.7</td>\n",
       "      <td>60</td>\n",
       "      <td>8.7326</td>\n",
       "      <td>0.2138</td>\n",
       "    </tr>\n",
       "    <tr>\n",
       "      <th>3</th>\n",
       "      <td>10</td>\n",
       "      <td>200</td>\n",
       "      <td>0.3</td>\n",
       "      <td>50</td>\n",
       "      <td>11.0117</td>\n",
       "      <td>0.2752</td>\n",
       "    </tr>\n",
       "    <tr>\n",
       "      <th>4</th>\n",
       "      <td>10</td>\n",
       "      <td>200</td>\n",
       "      <td>0.5</td>\n",
       "      <td>60</td>\n",
       "      <td>9.8526</td>\n",
       "      <td>0.1894</td>\n",
       "    </tr>\n",
       "    <tr>\n",
       "      <th>5</th>\n",
       "      <td>10</td>\n",
       "      <td>200</td>\n",
       "      <td>0.7</td>\n",
       "      <td>40</td>\n",
       "      <td>11.4750</td>\n",
       "      <td>0.1125</td>\n",
       "    </tr>\n",
       "    <tr>\n",
       "      <th>6</th>\n",
       "      <td>10</td>\n",
       "      <td>300</td>\n",
       "      <td>0.3</td>\n",
       "      <td>60</td>\n",
       "      <td>8.3835</td>\n",
       "      <td>0.0986</td>\n",
       "    </tr>\n",
       "    <tr>\n",
       "      <th>7</th>\n",
       "      <td>10</td>\n",
       "      <td>300</td>\n",
       "      <td>0.5</td>\n",
       "      <td>40</td>\n",
       "      <td>8.3601</td>\n",
       "      <td>0.1706</td>\n",
       "    </tr>\n",
       "    <tr>\n",
       "      <th>8</th>\n",
       "      <td>10</td>\n",
       "      <td>300</td>\n",
       "      <td>0.7</td>\n",
       "      <td>50</td>\n",
       "      <td>8.1600</td>\n",
       "      <td>0.1100</td>\n",
       "    </tr>\n",
       "    <tr>\n",
       "      <th>9</th>\n",
       "      <td>20</td>\n",
       "      <td>100</td>\n",
       "      <td>0.7</td>\n",
       "      <td>40</td>\n",
       "      <td>22.1204</td>\n",
       "      <td>0.1301</td>\n",
       "    </tr>\n",
       "    <tr>\n",
       "      <th>10</th>\n",
       "      <td>20</td>\n",
       "      <td>100</td>\n",
       "      <td>0.3</td>\n",
       "      <td>50</td>\n",
       "      <td>19.4157</td>\n",
       "      <td>0.2831</td>\n",
       "    </tr>\n",
       "    <tr>\n",
       "      <th>11</th>\n",
       "      <td>20</td>\n",
       "      <td>100</td>\n",
       "      <td>0.5</td>\n",
       "      <td>60</td>\n",
       "      <td>11.6821</td>\n",
       "      <td>0.1553</td>\n",
       "    </tr>\n",
       "    <tr>\n",
       "      <th>12</th>\n",
       "      <td>20</td>\n",
       "      <td>200</td>\n",
       "      <td>0.7</td>\n",
       "      <td>50</td>\n",
       "      <td>22.9500</td>\n",
       "      <td>0.1350</td>\n",
       "    </tr>\n",
       "    <tr>\n",
       "      <th>13</th>\n",
       "      <td>20</td>\n",
       "      <td>200</td>\n",
       "      <td>0.3</td>\n",
       "      <td>60</td>\n",
       "      <td>21.2000</td>\n",
       "      <td>0.2400</td>\n",
       "    </tr>\n",
       "    <tr>\n",
       "      <th>14</th>\n",
       "      <td>20</td>\n",
       "      <td>200</td>\n",
       "      <td>0.5</td>\n",
       "      <td>40</td>\n",
       "      <td>26.0869</td>\n",
       "      <td>0.2086</td>\n",
       "    </tr>\n",
       "    <tr>\n",
       "      <th>15</th>\n",
       "      <td>20</td>\n",
       "      <td>300</td>\n",
       "      <td>0.7</td>\n",
       "      <td>60</td>\n",
       "      <td>26.4705</td>\n",
       "      <td>0.5294</td>\n",
       "    </tr>\n",
       "    <tr>\n",
       "      <th>16</th>\n",
       "      <td>20</td>\n",
       "      <td>300</td>\n",
       "      <td>0.3</td>\n",
       "      <td>40</td>\n",
       "      <td>25.4400</td>\n",
       "      <td>0.4240</td>\n",
       "    </tr>\n",
       "    <tr>\n",
       "      <th>17</th>\n",
       "      <td>20</td>\n",
       "      <td>300</td>\n",
       "      <td>0.5</td>\n",
       "      <td>50</td>\n",
       "      <td>23.6712</td>\n",
       "      <td>0.3958</td>\n",
       "    </tr>\n",
       "    <tr>\n",
       "      <th>18</th>\n",
       "      <td>30</td>\n",
       "      <td>100</td>\n",
       "      <td>0.5</td>\n",
       "      <td>40</td>\n",
       "      <td>29.5522</td>\n",
       "      <td>0.5232</td>\n",
       "    </tr>\n",
       "    <tr>\n",
       "      <th>19</th>\n",
       "      <td>30</td>\n",
       "      <td>100</td>\n",
       "      <td>0.7</td>\n",
       "      <td>50</td>\n",
       "      <td>10.0000</td>\n",
       "      <td>0.4400</td>\n",
       "    </tr>\n",
       "    <tr>\n",
       "      <th>20</th>\n",
       "      <td>30</td>\n",
       "      <td>100</td>\n",
       "      <td>0.3</td>\n",
       "      <td>60</td>\n",
       "      <td>12.2400</td>\n",
       "      <td>0.3120</td>\n",
       "    </tr>\n",
       "    <tr>\n",
       "      <th>21</th>\n",
       "      <td>30</td>\n",
       "      <td>200</td>\n",
       "      <td>0.5</td>\n",
       "      <td>50</td>\n",
       "      <td>26.1818</td>\n",
       "      <td>0.6285</td>\n",
       "    </tr>\n",
       "    <tr>\n",
       "      <th>22</th>\n",
       "      <td>30</td>\n",
       "      <td>200</td>\n",
       "      <td>0.7</td>\n",
       "      <td>60</td>\n",
       "      <td>46.2857</td>\n",
       "      <td>0.9142</td>\n",
       "    </tr>\n",
       "    <tr>\n",
       "      <th>23</th>\n",
       "      <td>30</td>\n",
       "      <td>200</td>\n",
       "      <td>0.3</td>\n",
       "      <td>40</td>\n",
       "      <td>42.1276</td>\n",
       "      <td>0.5829</td>\n",
       "    </tr>\n",
       "    <tr>\n",
       "      <th>24</th>\n",
       "      <td>30</td>\n",
       "      <td>300</td>\n",
       "      <td>0.5</td>\n",
       "      <td>60</td>\n",
       "      <td>36.6545</td>\n",
       "      <td>0.7854</td>\n",
       "    </tr>\n",
       "    <tr>\n",
       "      <th>25</th>\n",
       "      <td>30</td>\n",
       "      <td>300</td>\n",
       "      <td>0.7</td>\n",
       "      <td>40</td>\n",
       "      <td>33.5172</td>\n",
       "      <td>0.7544</td>\n",
       "    </tr>\n",
       "    <tr>\n",
       "      <th>26</th>\n",
       "      <td>30</td>\n",
       "      <td>300</td>\n",
       "      <td>0.3</td>\n",
       "      <td>50</td>\n",
       "      <td>35.3571</td>\n",
       "      <td>0.8928</td>\n",
       "    </tr>\n",
       "  </tbody>\n",
       "</table>\n",
       "</div>"
      ],
      "text/plain": [
       "     I  Ton    P   V      MRR     TWR\n",
       "0   10  100  0.3  40   4.9550  0.1011\n",
       "1   10  100  0.5  50   8.8301  0.0849\n",
       "2   10  100  0.7  60   8.7326  0.2138\n",
       "3   10  200  0.3  50  11.0117  0.2752\n",
       "4   10  200  0.5  60   9.8526  0.1894\n",
       "5   10  200  0.7  40  11.4750  0.1125\n",
       "6   10  300  0.3  60   8.3835  0.0986\n",
       "7   10  300  0.5  40   8.3601  0.1706\n",
       "8   10  300  0.7  50   8.1600  0.1100\n",
       "9   20  100  0.7  40  22.1204  0.1301\n",
       "10  20  100  0.3  50  19.4157  0.2831\n",
       "11  20  100  0.5  60  11.6821  0.1553\n",
       "12  20  200  0.7  50  22.9500  0.1350\n",
       "13  20  200  0.3  60  21.2000  0.2400\n",
       "14  20  200  0.5  40  26.0869  0.2086\n",
       "15  20  300  0.7  60  26.4705  0.5294\n",
       "16  20  300  0.3  40  25.4400  0.4240\n",
       "17  20  300  0.5  50  23.6712  0.3958\n",
       "18  30  100  0.5  40  29.5522  0.5232\n",
       "19  30  100  0.7  50  10.0000  0.4400\n",
       "20  30  100  0.3  60  12.2400  0.3120\n",
       "21  30  200  0.5  50  26.1818  0.6285\n",
       "22  30  200  0.7  60  46.2857  0.9142\n",
       "23  30  200  0.3  40  42.1276  0.5829\n",
       "24  30  300  0.5  60  36.6545  0.7854\n",
       "25  30  300  0.7  40  33.5172  0.7544\n",
       "26  30  300  0.3  50  35.3571  0.8928"
      ]
     },
     "execution_count": 2,
     "metadata": {},
     "output_type": "execute_result"
    }
   ],
   "source": [
    "data = pd.read_csv(\"EDMDATA.csv\")\n",
    "data"
   ]
  },
  {
   "cell_type": "code",
   "execution_count": 3,
   "metadata": {},
   "outputs": [
    {
     "data": {
      "text/plain": [
       "Index(['I', 'Ton', 'P', 'V', 'MRR', 'TWR'], dtype='object')"
      ]
     },
     "execution_count": 3,
     "metadata": {},
     "output_type": "execute_result"
    }
   ],
   "source": [
    "data.columns"
   ]
  },
  {
   "cell_type": "code",
   "execution_count": 7,
   "metadata": {},
   "outputs": [
    {
     "data": {
      "text/html": [
       "<div>\n",
       "<style scoped>\n",
       "    .dataframe tbody tr th:only-of-type {\n",
       "        vertical-align: middle;\n",
       "    }\n",
       "\n",
       "    .dataframe tbody tr th {\n",
       "        vertical-align: top;\n",
       "    }\n",
       "\n",
       "    .dataframe thead th {\n",
       "        text-align: right;\n",
       "    }\n",
       "</style>\n",
       "<table border=\"1\" class=\"dataframe\">\n",
       "  <thead>\n",
       "    <tr style=\"text-align: right;\">\n",
       "      <th></th>\n",
       "      <th>I</th>\n",
       "      <th>Ton</th>\n",
       "      <th>P</th>\n",
       "      <th>V</th>\n",
       "      <th>MRR</th>\n",
       "    </tr>\n",
       "  </thead>\n",
       "  <tbody>\n",
       "    <tr>\n",
       "      <th>0</th>\n",
       "      <td>10</td>\n",
       "      <td>100</td>\n",
       "      <td>0.3</td>\n",
       "      <td>40</td>\n",
       "      <td>4.9550</td>\n",
       "    </tr>\n",
       "    <tr>\n",
       "      <th>1</th>\n",
       "      <td>10</td>\n",
       "      <td>100</td>\n",
       "      <td>0.5</td>\n",
       "      <td>50</td>\n",
       "      <td>8.8301</td>\n",
       "    </tr>\n",
       "    <tr>\n",
       "      <th>2</th>\n",
       "      <td>10</td>\n",
       "      <td>100</td>\n",
       "      <td>0.7</td>\n",
       "      <td>60</td>\n",
       "      <td>8.7326</td>\n",
       "    </tr>\n",
       "    <tr>\n",
       "      <th>3</th>\n",
       "      <td>10</td>\n",
       "      <td>200</td>\n",
       "      <td>0.3</td>\n",
       "      <td>50</td>\n",
       "      <td>11.0117</td>\n",
       "    </tr>\n",
       "    <tr>\n",
       "      <th>4</th>\n",
       "      <td>10</td>\n",
       "      <td>200</td>\n",
       "      <td>0.5</td>\n",
       "      <td>60</td>\n",
       "      <td>9.8526</td>\n",
       "    </tr>\n",
       "  </tbody>\n",
       "</table>\n",
       "</div>"
      ],
      "text/plain": [
       "    I  Ton    P   V      MRR\n",
       "0  10  100  0.3  40   4.9550\n",
       "1  10  100  0.5  50   8.8301\n",
       "2  10  100  0.7  60   8.7326\n",
       "3  10  200  0.3  50  11.0117\n",
       "4  10  200  0.5  60   9.8526"
      ]
     },
     "execution_count": 7,
     "metadata": {},
     "output_type": "execute_result"
    }
   ],
   "source": [
    "x = data.drop('TWR',axis=1)\n",
    "x.head()"
   ]
  },
  {
   "cell_type": "code",
   "execution_count": 8,
   "metadata": {},
   "outputs": [
    {
     "data": {
      "text/plain": [
       "0    0.1011\n",
       "1    0.0849\n",
       "2    0.2138\n",
       "3    0.2752\n",
       "4    0.1894\n",
       "Name: TWR, dtype: float64"
      ]
     },
     "execution_count": 8,
     "metadata": {},
     "output_type": "execute_result"
    }
   ],
   "source": [
    "y = data.TWR\n",
    "y.head()"
   ]
  },
  {
   "cell_type": "code",
   "execution_count": 9,
   "metadata": {},
   "outputs": [],
   "source": [
    "import matplotlib.pyplot as plt\n",
    "import seaborn as sn"
   ]
  },
  {
   "cell_type": "code",
   "execution_count": 11,
   "metadata": {},
   "outputs": [
    {
     "data": {
      "text/plain": [
       "(27, 5)"
      ]
     },
     "execution_count": 11,
     "metadata": {},
     "output_type": "execute_result"
    }
   ],
   "source": [
    "x.shape"
   ]
  },
  {
   "cell_type": "code",
   "execution_count": 12,
   "metadata": {},
   "outputs": [
    {
     "data": {
      "text/plain": [
       "(27,)"
      ]
     },
     "execution_count": 12,
     "metadata": {},
     "output_type": "execute_result"
    }
   ],
   "source": [
    "y.shape"
   ]
  },
  {
   "cell_type": "code",
   "execution_count": 13,
   "metadata": {},
   "outputs": [
    {
     "data": {
      "text/plain": [
       "<matplotlib.collections.PathCollection at 0x275f0f762b0>"
      ]
     },
     "execution_count": 13,
     "metadata": {},
     "output_type": "execute_result"
    },
    {
     "data": {
      "image/png": "[encoded data removed]",
      "text/plain": [
       "<Figure size 432x288 with 1 Axes>"
      ]
     },
     "metadata": {
      "needs_background": "light"
     },
     "output_type": "display_data"
    }
   ],
   "source": [
    "plt.scatter(x['P'],y)"
   ]
  },
  {
   "cell_type": "code",
   "execution_count": 20,
   "metadata": {},
   "outputs": [
    {
     "data": {
      "text/plain": [
       "I      9\n",
       "Ton    9\n",
       "P      9\n",
       "V      9\n",
       "MRR    9\n",
       "dtype: int64"
      ]
     },
     "execution_count": 20,
     "metadata": {},
     "output_type": "execute_result"
    }
   ],
   "source": [
    "x.loc[x['P']==0.3].count()"
   ]
  },
  {
   "cell_type": "code",
   "execution_count": 21,
   "metadata": {},
   "outputs": [
    {
     "data": {
      "text/plain": [
       "array([0.3, 0.5, 0.7])"
      ]
     },
     "execution_count": 21,
     "metadata": {},
     "output_type": "execute_result"
    }
   ],
   "source": [
    "x['P'].unique()"
   ]
  },
  {
   "cell_type": "code",
   "execution_count": 24,
   "metadata": {},
   "outputs": [
    {
     "data": {
      "text/plain": [
       "1.5"
      ]
     },
     "execution_count": 24,
     "metadata": {},
     "output_type": "execute_result"
    }
   ],
   "source": [
    "x['P'].unique().sum()"
   ]
  },
  {
   "cell_type": "code",
   "execution_count": 25,
   "metadata": {},
   "outputs": [],
   "source": [
    "from sklearn.linear_model import LinearRegression\n",
    "lin = LinearRegression()"
   ]
  },
  {
   "cell_type": "code",
   "execution_count": 26,
   "metadata": {},
   "outputs": [
    {
     "data": {
      "text/plain": [
       "LinearRegression(copy_X=True, fit_intercept=True, n_jobs=None,\n",
       "         normalize=False)"
      ]
     },
     "execution_count": 26,
     "metadata": {},
     "output_type": "execute_result"
    }
   ],
   "source": [
    "lin.fit(x,y)"
   ]
  },
  {
   "cell_type": "code",
   "execution_count": 27,
   "metadata": {},
   "outputs": [],
   "source": [
    "pred = lin.predict(x)"
   ]
  },
  {
   "cell_type": "code",
   "execution_count": 28,
   "metadata": {},
   "outputs": [
    {
     "data": {
      "text/plain": [
       "0.8159845188152521"
      ]
     },
     "execution_count": 28,
     "metadata": {},
     "output_type": "execute_result"
    }
   ],
   "source": [
    "lin.score(x,y)"
   ]
  },
  {
   "cell_type": "code",
   "execution_count": 29,
   "metadata": {},
   "outputs": [
    {
     "data": {
      "text/plain": [
       "0.8159845188152521"
      ]
     },
     "execution_count": 29,
     "metadata": {},
     "output_type": "execute_result"
    }
   ],
   "source": [
    "from sklearn.metrics import r2_score,mean_squared_error\n",
    "r2_score(y,pred)"
   ]
  },
  {
   "cell_type": "code",
   "execution_count": 30,
   "metadata": {},
   "outputs": [
    {
     "data": {
      "text/plain": [
       "0.011829071407588258"
      ]
     },
     "execution_count": 30,
     "metadata": {},
     "output_type": "execute_result"
    }
   ],
   "source": [
    "mean_squared_error(y,pred)"
   ]
  },
  {
   "cell_type": "code",
   "execution_count": 31,
   "metadata": {},
   "outputs": [
    {
     "data": {
      "text/plain": [
       "array([-0.03735617])"
      ]
     },
     "execution_count": 31,
     "metadata": {},
     "output_type": "execute_result"
    }
   ],
   "source": [
    "lin.predict([[10,100,0.3,40,4.9550]])"
   ]
  },
  {
   "cell_type": "code",
   "execution_count": 34,
   "metadata": {},
   "outputs": [
    {
     "data": {
      "text/plain": [
       "<matplotlib.axes._subplots.AxesSubplot at 0x275fb36b2e8>"
      ]
     },
     "execution_count": 34,
     "metadata": {},
     "output_type": "execute_result"
    },
    {
     "data": {
      "image/png": "[encoded data removed]",
      "text/plain": [
       "<Figure size 864x720 with 2 Axes>"
      ]
     },
     "metadata": {},
     "output_type": "display_data"
    }
   ],
   "source": [
    "correlation_matrix = data.corr().round(2)\n",
    "sn.set(rc={'figure.figsize':(12,10)})\n",
    "sn.heatmap(data=correlation_matrix, annot=True)"
   ]
  },
  {
   "cell_type": "code",
   "execution_count": 36,
   "metadata": {},
   "outputs": [
    {
     "data": {
      "text/plain": [
       "array([[10.    ,  4.955 ],\n",
       "       [10.    ,  8.8301],\n",
       "       [10.    ,  8.7326],\n",
       "       [10.    , 11.0117],\n",
       "       [10.    ,  9.8526],\n",
       "       [10.    , 11.475 ],\n",
       "       [10.    ,  8.3835],\n",
       "       [10.    ,  8.3601],\n",
       "       [10.    ,  8.16  ],\n",
       "       [20.    , 22.1204],\n",
       "       [20.    , 19.4157],\n",
       "       [20.    , 11.6821],\n",
       "       [20.    , 22.95  ],\n",
       "       [20.    , 21.2   ],\n",
       "       [20.    , 26.0869],\n",
       "       [20.    , 26.4705],\n",
       "       [20.    , 25.44  ],\n",
       "       [20.    , 23.6712],\n",
       "       [30.    , 29.5522],\n",
       "       [30.    , 10.    ],\n",
       "       [30.    , 12.24  ],\n",
       "       [30.    , 26.1818],\n",
       "       [30.    , 46.2857],\n",
       "       [30.    , 42.1276],\n",
       "       [30.    , 36.6545],\n",
       "       [30.    , 33.5172],\n",
       "       [30.    , 35.3571]])"
      ]
     },
     "execution_count": 36,
     "metadata": {},
     "output_type": "execute_result"
    }
   ],
   "source": [
    "x1 = data[['I','MRR']].values\n",
    "x1"
   ]
  },
  {
   "cell_type": "code",
   "execution_count": 50,
   "metadata": {
    "collapsed": true
   },
   "outputs": [
    {
     "data": {
      "text/plain": [
       "array([[0.1011],\n",
       "       [0.0849],\n",
       "       [0.2138],\n",
       "       [0.2752],\n",
       "       [0.1894],\n",
       "       [0.1125],\n",
       "       [0.0986],\n",
       "       [0.1706],\n",
       "       [0.11  ],\n",
       "       [0.1301],\n",
       "       [0.2831],\n",
       "       [0.1553],\n",
       "       [0.135 ],\n",
       "       [0.24  ],\n",
       "       [0.2086],\n",
       "       [0.5294],\n",
       "       [0.424 ],\n",
       "       [0.3958],\n",
       "       [0.5232],\n",
       "       [0.44  ],\n",
       "       [0.312 ],\n",
       "       [0.6285],\n",
       "       [0.9142],\n",
       "       [0.5829],\n",
       "       [0.7854],\n",
       "       [0.7544],\n",
       "       [0.8928]])"
      ]
     },
     "execution_count": 50,
     "metadata": {},
     "output_type": "execute_result"
    }
   ],
   "source": [
    "y2 = data['TWR'].values.reshape(-1,1)\n",
    "y2"
   ]
  },
  {
   "cell_type": "code",
   "execution_count": 51,
   "metadata": {},
   "outputs": [],
   "source": [
    "from sklearn.preprocessing import PolynomialFeatures\n",
    "from sklearn.linear_model import LinearRegression\n",
    "\n",
    "poly = PolynomialFeatures(degree = 2)"
   ]
  },
  {
   "cell_type": "code",
   "execution_count": 67,
   "metadata": {},
   "outputs": [],
   "source": [
    "x_tran = poly.fit_transform(x1)"
   ]
  },
  {
   "cell_type": "code",
   "execution_count": 68,
   "metadata": {},
   "outputs": [
    {
     "data": {
      "text/plain": [
       "LinearRegression(copy_X=True, fit_intercept=True, n_jobs=None,\n",
       "         normalize=False)"
      ]
     },
     "execution_count": 68,
     "metadata": {},
     "output_type": "execute_result"
    }
   ],
   "source": [
    "lin1 = LinearRegression()\n",
    "lin1.fit(x_tran,y2)"
   ]
  },
  {
   "cell_type": "code",
   "execution_count": 69,
   "metadata": {},
   "outputs": [],
   "source": [
    "pred1=lin1.predict(x_tran)"
   ]
  },
  {
   "cell_type": "code",
   "execution_count": 70,
   "metadata": {},
   "outputs": [
    {
     "data": {
      "text/plain": [
       "0.8476990360500203"
      ]
     },
     "execution_count": 70,
     "metadata": {},
     "output_type": "execute_result"
    }
   ],
   "source": [
    "lin1.score(x_tran,y2)"
   ]
  },
  {
   "cell_type": "code",
   "execution_count": 71,
   "metadata": {},
   "outputs": [],
   "source": [
    "#poly_model.predict(poly_features.fit_transform([[]]))"
   ]
  },
  {
   "cell_type": "code",
   "execution_count": null,
   "metadata": {},
   "outputs": [],
   "source": []
  },
  {
   "cell_type": "code",
   "execution_count": null,
   "metadata": {},
   "outputs": [],
   "source": []
  }
 ],
 "metadata": {
  "kernelspec": {
   "display_name": "Python 3",
   "language": "python",
   "name": "python3"
  },
  "language_info": {
   "codemirror_mode": {
    "name": "ipython",
    "version": 3
   },
   "file_extension": ".py",
   "mimetype": "text/x-python",
   "name": "python",
   "nbconvert_exporter": "python",
   "pygments_lexer": "ipython3",
   "version": "3.7.3"
  }
 },
 "nbformat": 4,
 "nbformat_minor": 2
}
